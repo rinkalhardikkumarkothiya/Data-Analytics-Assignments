{
 "cells": [
  {
   "cell_type": "code",
   "execution_count": 12,
   "id": "6d0895fa",
   "metadata": {
    "scrolled": true
   },
   "outputs": [
    {
     "name": "stdout",
     "output_type": "stream",
     "text": [
      "enter a number:-13\n",
      "enter your number is negative\n"
     ]
    }
   ],
   "source": [
    "# Q-1. Write a Python program to check if a number is positive, negative or zero?\n",
    "num = int(input(\"enter a number:\"))\n",
    "if num>0:\n",
    "    print(\"enter your number is positive\")\n",
    "elif num<0:\n",
    "    print(\"enter your number is negative\")\n",
    "else:\n",
    "    print(\"enter your number is zero\")"
   ]
  },
  {
   "cell_type": "code",
   "execution_count": 13,
   "id": "3d8965de",
   "metadata": {
    "scrolled": true
   },
   "outputs": [
    {
     "name": "stdout",
     "output_type": "stream",
     "text": [
      "Enter a number: 13\n",
      "13 factorial num is = 6227020800\n"
     ]
    }
   ],
   "source": [
    "# Q-2. Write a Python program to get the Factorial number of given number?\n",
    "\n",
    "num = int(input(\"Enter a number: \"))\n",
    "factorial=1\n",
    "for i in range(1,num+1):\n",
    "    factorial = factorial * i\n",
    "print(f\"{num} factorial num is = {factorial}\")    "
   ]
  },
  {
   "cell_type": "code",
   "execution_count": 14,
   "id": "591f37d1",
   "metadata": {},
   "outputs": [
    {
     "name": "stdout",
     "output_type": "stream",
     "text": [
      "enter your number:8\n",
      "1  1  2  3  5  8  13  21  "
     ]
    }
   ],
   "source": [
    "# Q-3. Write a Python program to get the Fibonacci series of given range?\n",
    "num=int(input(\"enter your number:\"))\n",
    "x=0\n",
    "y=1\n",
    "z=0\n",
    "for i in range(1,num+1):\n",
    "   x=y\n",
    "   y=z\n",
    "   z=x+y\n",
    "   print(z,end= \"  \")\n",
    "    \n"
   ]
  },
  {
   "cell_type": "raw",
   "id": "6d595f89",
   "metadata": {},
   "source": [
    "# Q-4. How memory is managed in Python?\n",
    "\n",
    "According to the Python memory management documentation, Python has a private heap that stores our program’s objects and data structures. Python memory manager takes care of the bulk of the memory management work and allows us to concentrate on our code.\n",
    "\n",
    "Types of memory allocation\n",
    "There are two types of memory allocation in Python, static and dynamic.\n",
    "\n",
    "1. Static memory\n",
    "The stack data structure provides static memory allocation, meaning the variables are in the stack memory. Statically assigned variables, as the name implies, are permanent; this means that they must be allocated in advance and persist for the duration of the program. Another point to remember is that we cannot reuse the memory allocated in the stack memory. Therefore, memory reusability is not possible.\n",
    " \n",
    "2. Dynamic memory\n",
    "The dynamic memory allocation uses heap data structures in its implementation, implying that variables are in the heap memory. As the name suggests, dynamically allocated variables are not permanent and can be changed while a program is running. Additionally, allotted memory can be relinquished and reused. However, it takes longer to complete because dynamic memory allocation occurs during program execution. Furthermore, after utilizing the allocated memory, we must release it. Otherwise, problems such as memory leaks might arise."
   ]
  },
  {
   "cell_type": "code",
   "execution_count": 15,
   "id": "bde683ff",
   "metadata": {},
   "outputs": [
    {
     "name": "stdout",
     "output_type": "stream",
     "text": [
      "0\n",
      "1\n",
      "2\n",
      "3\n",
      "5\n",
      "6\n",
      "7\n",
      "8\n",
      "9\n",
      "10\n",
      "11\n",
      "12\n",
      "13\n",
      "14\n",
      "num(4) is skip\n"
     ]
    }
   ],
   "source": [
    "# Q-5.What is the purpose continue statement in python?\n",
    "\n",
    "#python continue statement is a loop control statement that forces to execute the next iteration of the loop while skipping\n",
    "#the rest of the code inside the loop for the current iteration only,\n",
    "#i.e. when the continue statement is executed in the loop, the codde inside the loop following the continue statement will be\n",
    "#skipped for the current iteration and the next iteration of the loop begin.\n",
    "\n",
    "#Example:\n",
    "    \n",
    "for i in range(15):\n",
    "    if i==4:\n",
    "        continue\n",
    "    print(i) \n",
    "print(\"num(4) is skip\")   "
   ]
  },
  {
   "cell_type": "code",
   "execution_count": 16,
   "id": "73c36878",
   "metadata": {},
   "outputs": [
    {
     "name": "stdout",
     "output_type": "stream",
     "text": [
      "*****with temp variable*****\n",
      "enter a num1 :13\n",
      "enter a num2 :8\n",
      "with temp num1 = 8\n",
      "with temp num2 = 13\n",
      "*****without temp variable*****\n",
      "enter a num a :13\n",
      "enter a num b :8\n",
      "without temp num a = 8\n",
      "without temp num b = 13\n"
     ]
    }
   ],
   "source": [
    "# Q-6.Write python program that swap two number with temp variable and without temp variable?\n",
    "\n",
    "#**********with temp variable*************\n",
    "print(\"*****with temp variable*****\")\n",
    "num1=int(input(\"enter a num1 :\"))\n",
    "num2=int(input(\"enter a num2 :\"))\n",
    "temp=num1\n",
    "num1=num2\n",
    "num2=temp\n",
    "print(\"with temp num1 =\",num1)\n",
    "print(\"with temp num2 =\",num2)\n",
    "\n",
    "#******without temp variable******\n",
    "print(\"*****without temp variable*****\")\n",
    "a=int(input(\"enter a num a :\"))\n",
    "b=int(input(\"enter a num b :\"))\n",
    "a=a+b\n",
    "b=a-b\n",
    "a=a-b\n",
    "print(\"without temp num a =\",a)\n",
    "print(\"without temp num b =\",b)"
   ]
  },
  {
   "cell_type": "code",
   "execution_count": 17,
   "id": "6f002e15",
   "metadata": {},
   "outputs": [
    {
     "name": "stdout",
     "output_type": "stream",
     "text": [
      "enter your number: 17\n",
      "17 : number is odd\n"
     ]
    }
   ],
   "source": [
    "# Q-7. Write a Python program to find whether a given number is even or odd,print out an appropriate message to the user?\n",
    "\n",
    "num=int(input(\"enter your number: \"))\n",
    "if(num%2==0):\n",
    "    print(num,(\": number is even\"))\n",
    "elif(num%2!=0):\n",
    "    print(num,(\": number is odd\"))\n",
    "else: \n",
    "    print(\"enter a valid number\") \n",
    "\n"
   ]
  },
  {
   "cell_type": "code",
   "execution_count": 18,
   "id": "6cd4de9a",
   "metadata": {},
   "outputs": [
    {
     "name": "stdout",
     "output_type": "stream",
     "text": [
      "enter your letter :c\n",
      "c is not vowel \n",
      " enter correct letter\n"
     ]
    }
   ],
   "source": [
    "# Q-8.Write a Python program to test whether a passed letter is a vowel or not?\n",
    "\n",
    "vowel=input(\"enter your letter :\")\n",
    "if (vowel==\"a\"or vowel==\"e\"or vowel==\"i\"or vowel==\"o\"or vowel==\"u\"):\n",
    "    print(\" {vowel} is--small vowel--\")\n",
    "elif (vowel==\"A\"or vowel==\"E\"or vowel==\"I\"or vowel==\"O\"or vowel==\"U\"):\n",
    "    print(\" {vowel} is--capital vowel--\")\n",
    "else:\n",
    "    print(f\"{vowel} is not vowel \\n enter correct letter\")"
   ]
  },
  {
   "cell_type": "code",
   "execution_count": 19,
   "id": "16e67114",
   "metadata": {},
   "outputs": [
    {
     "name": "stdout",
     "output_type": "stream",
     "text": [
      "enter your first value: 13\n",
      "enter your second value: 14\n",
      "enter your third value: 15\n",
      "sum 42\n"
     ]
    }
   ],
   "source": [
    "# Q-9.Write a Python program to sum of three given integers. However, if the two values are equal sum will be zero?\n",
    "\n",
    "num1=int(input(\"enter your first value: \"))    #use for the three value taken\n",
    "num2=int(input(\"enter your second value: \"))\n",
    "num3=int(input(\"enter your third value: \"))\n",
    "\n",
    "if num1==num2 or num2==num1 or num3==num1 :                       #use for equal value \n",
    "    print(\"sum\",0)\n",
    "else:\n",
    "    print(\"sum\", num1+num2+num3)                     # sum of three given integers."
   ]
  },
  {
   "cell_type": "code",
   "execution_count": 20,
   "id": "48b6a65f",
   "metadata": {},
   "outputs": [
    {
     "name": "stdout",
     "output_type": "stream",
     "text": [
      "enter your num1: 10\n",
      "enter your num2: 5\n",
      "true\n"
     ]
    }
   ],
   "source": [
    "# Q-10.Write a Python program that will return true if the two given integervalues are equal or their sum or difference is 5?\n",
    "a=int(input(\"enter your num1: \"))     #use for variable\n",
    "b=int(input(\"enter your num2: \"))\n",
    "\n",
    "if a==b or (a+b)==5 or (a-b)==5:        # use for integer values their sum or difference is 5\n",
    "   print (\"true\")\n",
    "else:\n",
    "    print(\"false\")\n"
   ]
  },
  {
   "cell_type": "code",
   "execution_count": 27,
   "id": "a0b19015",
   "metadata": {},
   "outputs": [
    {
     "name": "stdout",
     "output_type": "stream",
     "text": [
      "Enter your number:13\n",
      "1+2+3+4+5+6+7+8+9+10+11+12+13+= 91\n",
      "91\n"
     ]
    }
   ],
   "source": [
    "# Q-11.Write a python program to sum of the first n positive integers?\n",
    "\n",
    "n=int(input(\"Enter your number:\"))\n",
    "sum=0\n",
    "for i in range(1,n+1):\n",
    "    sum= i+sum\n",
    "    print(i,end=\"+\")\n",
    "print(\"=\",sum)\n",
    "print(sum)"
   ]
  },
  {
   "cell_type": "code",
   "execution_count": 11,
   "id": "827636a7",
   "metadata": {},
   "outputs": [
    {
     "name": "stdout",
     "output_type": "stream",
     "text": [
      "enter your string: hello every one good morning\n",
      " your length is: 28\n"
     ]
    }
   ],
   "source": [
    "# Q-12.Write a Python program to calculate the length of a string?\n",
    "\n",
    "a=input(\"enter your string: \")\n",
    "print(f\" your length is: {len(a)}\")\n"
   ]
  },
  {
   "cell_type": "code",
   "execution_count": 1,
   "id": "f5f9643a",
   "metadata": {},
   "outputs": [
    {
     "name": "stdout",
     "output_type": "stream",
     "text": [
      "{'r': 1, 'i': 2, 'n': 1, 'k': 2, 'a': 2, 'l': 1, ' ': 1, 'o': 1, 't': 1, 'h': 1, 'y': 1}\n"
     ]
    }
   ],
   "source": [
    "# Q-13. Write a Python program to count the number of characters (characterfrequency) in a string?\n",
    "\n",
    "str1=(\"rinkal kothiya\")\n",
    "a = {}\n",
    "for i in str1:\n",
    "    if i in a:\n",
    "        a[i]+=1\n",
    "    else:\n",
    "        a[i]=1\n",
    "print(a)        \n"
   ]
  },
  {
   "cell_type": "raw",
   "id": "ac3097d0",
   "metadata": {},
   "source": [
    "# Q-14. What are negative indexes and why are they used?\n",
    "\n",
    "To access an element from ordered sequences, we simply use the index of the element, which is the number of the position of that element. The index usually starts from 0, meaning that the first element has the index 0 and the second has 1, and so on.\n",
    "\n",
    "When we use the index to access elements from the end of a list, it’s called reverse indexing. In reverse indexing, the indexing of elements start from the last element with the index number being ‘−1’. The second last element has the index ‘−2’, and so on. These indexes used in reverse indexing are called negative indexes.\n"
   ]
  },
  {
   "cell_type": "code",
   "execution_count": 2,
   "id": "2dc16d02",
   "metadata": {},
   "outputs": [
    {
     "name": "stdout",
     "output_type": "stream",
     "text": [
      "number of substring occurence:  2\n"
     ]
    }
   ],
   "source": [
    "# Q-15. Write a Python program to count occurrences of a substring in a string?\n",
    "\n",
    "str1=\" hii how are you you are fine\"\n",
    "result=str1.count(\"you\")\n",
    "print(\"number of substring occurence: \",result)"
   ]
  },
  {
   "cell_type": "code",
   "execution_count": 21,
   "id": "5c7d0c0d",
   "metadata": {},
   "outputs": [
    {
     "name": "stdout",
     "output_type": "stream",
     "text": [
      "enter your name: miss you so much mumma\n",
      "{'miss': 1, 'you': 1, 'so': 1, 'much': 1, 'mumma': 1}\n"
     ]
    }
   ],
   "source": [
    "# Q-16. Write a Python program to count the occurrences of each word in a given sentence?\n",
    "\n",
    "str1=input(\"enter your name: \")\n",
    "word=str1.split()\n",
    "search_str={}\n",
    "for i in word:\n",
    "    if i in search_str:\n",
    "        search_str[i]+=1\n",
    "    else:    \n",
    "        search_str[i]=1\n",
    "print(search_str)        "
   ]
  },
  {
   "cell_type": "code",
   "execution_count": 18,
   "id": "53d9831b",
   "metadata": {},
   "outputs": [
    {
     "name": "stdout",
     "output_type": "stream",
     "text": [
      "enter string1:rinkal\n",
      "enter string2:hardik\n",
      "string1: rinkal\n",
      "string2: hardik\n",
      "single string: rinkalhardik\n",
      "separated by space: rinkal hardik\n",
      "swap the first two characters of each string:  irnkal ahrdik\n"
     ]
    }
   ],
   "source": [
    "# Q-17. Write a Python program to get a single string from two given strings,separated by a space and swap the first two characters of each string.\n",
    "a=input(\"enter string1:\")\n",
    "b=input(\"enter string2:\")\n",
    "print(\"string1:\",a)\n",
    "print(\"string2:\",b)\n",
    "print(\"single string:\",a+b)\n",
    "print(\"separated by space:\",a,b)\n",
    "a1=(a[1:2]+a[0:1]+a[2:])\n",
    "b1=(b[1:2]+b[0:1]+b[2:])\n",
    "print(\"swap the first two characters of each string: \",a1,b1)\n",
    "\n"
   ]
  },
  {
   "cell_type": "code",
   "execution_count": 11,
   "id": "6863784a",
   "metadata": {},
   "outputs": [
    {
     "name": "stdout",
     "output_type": "stream",
     "text": [
      "enter a string: now i am reading\n",
      "now i am readingly\n"
     ]
    }
   ],
   "source": [
    "# Q-18. Write a Python program to add 'ing' at the end of a given string (lengthshould be at least 3). If the given string already ends with 'ing' then add'ly' instead if the string length of the given string is less than 3, leave itunchanged?\n",
    "\n",
    "str1=input(\"enter a string: \")\n",
    "if len(str1)>=3:\n",
    "    if str1.endswith(\"ing\"):\n",
    "        str1+=\"ly\"\n",
    "    else:\n",
    "        str1+=\"ing\"\n",
    "print(str1)        "
   ]
  },
  {
   "cell_type": "code",
   "execution_count": 22,
   "id": "ca0ae3b9",
   "metadata": {},
   "outputs": [
    {
     "name": "stdout",
     "output_type": "stream",
     "text": [
      "enter a string:he is not poor doctor\n",
      "he is good doctor\n"
     ]
    }
   ],
   "source": [
    "# Q-19. Write a Python program to find the first appearance of the substring'not' and 'poor' from a given string, if 'not' follows the 'poor', replace thewhole 'not'...'poor' substring with 'good'. Return the resulting string?\n",
    "str1=input(\"enter a string:\")\n",
    "a=str1.find(\"not\")\n",
    "b=str1.find(\"poor\")\n",
    "if a<b:\n",
    "    str2=str1.replace(str1[a:b+4],\"good\")\n",
    "    print(str2)"
   ]
  },
  {
   "cell_type": "code",
   "execution_count": 1,
   "id": "dd4fc43d",
   "metadata": {},
   "outputs": [
    {
     "name": "stdout",
     "output_type": "stream",
     "text": [
      "mahadev\n"
     ]
    }
   ],
   "source": [
    "# Q-20. Write a Python function that takes a list of words and returns the lengthof the longest one?\n",
    "\n",
    "words= [\"aadi\",\"anadi\",\"shiva\",\"shivay\",\"mahadev\"]\n",
    "list_len=[]\n",
    "for i in words:\n",
    "    list_len.append(len(i))\n",
    "a=(list_len.index(max(list_len)))\n",
    "print(words[a])\n",
    "\n",
    "\n",
    "\n"
   ]
  },
  {
   "cell_type": "code",
   "execution_count": 1,
   "id": "2d7ca0fd",
   "metadata": {},
   "outputs": [
    {
     "name": "stdout",
     "output_type": "stream",
     "text": [
      "enter your string: rinkal  hardikkumar  kothiya\n",
      "ayihtok  ramukkidrah  laknir\n"
     ]
    }
   ],
   "source": [
    "# Q-21. Write a Python function to reverses a string if its length is a multiple of 4?\n",
    "\n",
    "str1=input(\"enter your string: \")\n",
    "if len(str1) % 4==0 : \n",
    "    #print(''.join(reversed(str1)))   # using reveresed method\n",
    "    print(''.join(str1[::-1]))        # using index reverse the name\n",
    "else:\n",
    "    print(str1)\n",
    "    "
   ]
  },
  {
   "cell_type": "code",
   "execution_count": 14,
   "id": "372e5764",
   "metadata": {},
   "outputs": [
    {
     "name": "stdout",
     "output_type": "stream",
     "text": [
      "enter your string :rinkalkothiya\n",
      "riya\n"
     ]
    }
   ],
   "source": [
    "# Q-22. Write a Python program to get a string made of the first 2 and the las2 chars from a given a string. If the string length is less than 2, returninstead of the empty string?\n",
    "\n",
    "str1=input(\"enter your string :\")\n",
    "if len(str1)<2:       #check length of string\n",
    "    print(\"string is empty\")\n",
    "else:\n",
    "    str2=str1[:2]+str1[-2:] # first 2 and last 2 character of string\n",
    "    print(str2)\n"
   ]
  },
  {
   "cell_type": "code",
   "execution_count": 4,
   "id": "118b8dc4",
   "metadata": {},
   "outputs": [
    {
     "name": "stdout",
     "output_type": "stream",
     "text": [
      "enter your choice:hi are you?\n",
      "enter your choice: how\n",
      "hi how are you?\n"
     ]
    }
   ],
   "source": [
    "# Q-23. Write a Python function to insert a string in the middle of a string?\n",
    "\n",
    "string1=input(\"enter your choice:\")\n",
    "string2=input(\"enter your choice:\")\n",
    "string3=(string1[ :2]+string2+string1[2: ])\n",
    "print(string3)\n"
   ]
  }
 ],
 "metadata": {
  "kernelspec": {
   "display_name": "Python 3 (ipykernel)",
   "language": "python",
   "name": "python3"
  },
  "language_info": {
   "codemirror_mode": {
    "name": "ipython",
    "version": 3
   },
   "file_extension": ".py",
   "mimetype": "text/x-python",
   "name": "python",
   "nbconvert_exporter": "python",
   "pygments_lexer": "ipython3",
   "version": "3.9.13"
  }
 },
 "nbformat": 4,
 "nbformat_minor": 5
}
