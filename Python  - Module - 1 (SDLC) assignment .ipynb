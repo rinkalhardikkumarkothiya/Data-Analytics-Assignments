{
 "cells": [
  {
   "cell_type": "markdown",
   "id": "4a79e473",
   "metadata": {},
   "source": [
    "# Q.1 What is Software?\n",
    "\n",
    "software is a set of instruction, data or programs used to operate computers and execute specific tasks. it is the opposite to hardware,which describes the physical aspects of a computer.software is a generic term used to refer to applications,scripts and programs that run on a device.it cab be thought of as the variable partb of a computer, while hardware is the invariable part. \n",
    "the two main categories of software are application software and system software. \n",
    "\n",
    "\n"
   ]
  },
  {
   "cell_type": "markdown",
   "id": "8226d850",
   "metadata": {},
   "source": [
    "# Q.2 what are the types of applications?\n",
    "\n",
    "Applications are pieces of software that enable a user to perform certain tasks on a computer or mobile device. All computers and mobile devices contain preloaded or built-in applications, such as a web browser, calculator and media player.\n",
    "\n",
    "some types of application include:\n",
    "1.word processing software\n",
    "2.spreadsheet software\n",
    "3.presentation software\n",
    "4.Multimedia software\n",
    "5.web browsers\n",
    "6.Educational software\n",
    "7.Graficas software\n",
    "8.freeware"
   ]
  },
  {
   "cell_type": "markdown",
   "id": "2cd2ca24",
   "metadata": {},
   "source": [
    "# Q.3 What is programming?\n",
    "Programming is the implementation of logic to facilitate specified computing operations and functionality. It occurs in one or more languages, which differ by application, domain and programming model. Programming language semantics and syntax are used when constructing an application.\n",
    "\n"
   ]
  },
  {
   "cell_type": "markdown",
   "id": "9c86973d",
   "metadata": {},
   "source": [
    "# Q.4 What is python?\n",
    "Python is an interpreted, object-oriented, high-level programming language with dynamic semantics. Its high-level built in data structures, combined with dynamic typing and dynamic binding, make it very attractive for Rapid Application Development. Python supports modules and packages, which encourages program modularity and code reuse the Python interpreter and the extensive standard library are available in source or binary form without charge for all major platforms, and can be freely distributed.\n",
    "\n"
   ]
  }
 ],
 "metadata": {
  "kernelspec": {
   "display_name": "Python 3 (ipykernel)",
   "language": "python",
   "name": "python3"
  },
  "language_info": {
   "codemirror_mode": {
    "name": "ipython",
    "version": 3
   },
   "file_extension": ".py",
   "mimetype": "text/x-python",
   "name": "python",
   "nbconvert_exporter": "python",
   "pygments_lexer": "ipython3",
   "version": "3.9.13"
  }
 },
 "nbformat": 4,
 "nbformat_minor": 5
}
